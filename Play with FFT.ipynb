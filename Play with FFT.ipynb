{
 "cells": [
  {
   "cell_type": "code",
   "execution_count": 3,
   "id": "ecb3d76e",
   "metadata": {},
   "outputs": [
    {
     "name": "stderr",
     "output_type": "stream",
     "text": [
      "Using TensorFlow backend.\n"
     ]
    }
   ],
   "source": [
    "import matplotlib.pyplot as plt\n",
    "import numpy as np\n",
    "import os\n",
    "import glob\n",
    "import pandas as pd\n",
    "from tqdm.auto import tqdm\n",
    "import time\n",
    "import numpy as np\n",
    "import numpy.ma as ma\n",
    "\n",
    "import tensorflow as tf\n",
    "from tensorflow import keras\n",
    "from tensorflow.keras import layers\n",
    "\n",
    "from keras.models import Sequential\n",
    "from keras import layers\n",
    "from keras.optimizers import RMSprop\n",
    "from tensorflow.keras.optimizers import Adam\n",
    "from sklearn.metrics import accuracy_score\n",
    "import matplotlib.pyplot as plt\n",
    "from sklearn.model_selection import train_test_split\n",
    "from tensorflow.keras.layers import concatenate\n",
    "from tensorflow.keras.layers import Conv2D, MaxPooling2D, Flatten\n",
    "from sklearn.model_selection import StratifiedKFold\n",
    "from numpy.fft import fft, ifft"
   ]
  },
  {
   "cell_type": "code",
   "execution_count": 6,
   "id": "6bc789c2",
   "metadata": {},
   "outputs": [
    {
     "data": {
      "application/vnd.jupyter.widget-view+json": {
       "model_id": "08ec8dafde324ff4b42016af5f6f026a",
       "version_major": 2,
       "version_minor": 0
      },
      "text/plain": [
       "load data:   0%|          | 0/956 [00:00<?, ?it/s]"
      ]
     },
     "metadata": {},
     "output_type": "display_data"
    }
   ],
   "source": [
    "# Helper code to get the action/subject from the path of the file\n",
    "sensor_list = ['act', 'acw', 'dc', 'pm']\n",
    "# Test out the read in helper function\n",
    "def get_subject_action(sensor, full_path):\n",
    "    index = full_path.find(sensor)\n",
    "    index += len(sensor)\n",
    "    subject = int(full_path[index+1:index+3])\n",
    "    action = int(full_path[index+4:index+6])\n",
    "    if action == 4:\n",
    "        if full_path.find(f\"{sensor}_1\") > 0:\n",
    "            action = '4-1'\n",
    "        else:\n",
    "            action = '4-2'\n",
    "        \n",
    "    return (subject, str(action))\n",
    "\n",
    "for sensor in sensor_list:\n",
    "    for sensor_dir in glob.iglob('.\\\\data\\\\' + sensor ):\n",
    "        for subject_id, subject_dir in enumerate(glob.iglob(f\"{sensor_dir}\\\\*\")):\n",
    "            for action_id, file in enumerate(os.listdir(subject_dir)):\n",
    "                full_path = f\"{subject_dir}\\\\{file}\"\n",
    "\n",
    "total_data = {\n",
    "    'act': None,\n",
    "    'acw': None,\n",
    "    'dc': None,\n",
    "    'pm': None,\n",
    "}\n",
    "\n",
    "\n",
    "headers = {\n",
    "    'act': ['times', 'X', 'Y', 'Z'],\n",
    "    'acw': ['times', 'X', 'Y', 'Z'],\n",
    "    'dc': ['times'],\n",
    "    'pm': ['times']\n",
    "}\n",
    "for i in range(1,513):\n",
    "    headers['pm'].append(f\"sensor_{i}\")\n",
    "for i in range(1,193):\n",
    "    headers['dc'].append(f\"sensor_{i}\")\n",
    "\n",
    "actions = ['1', '2', '3', '4-1', '4-2', '5', '6', '7']\n",
    "\n",
    "sensor_list = ['act', 'acw', 'dc', 'pm']\n",
    "#sensor_list = ['acw']\n",
    "\n",
    "# there are 956 files in our dataset\n",
    "i = 0\n",
    "\n",
    "pbar = tqdm(desc=\"load data\", total=956)\n",
    "for sensor in sensor_list:\n",
    "    for sensor_dir in glob.iglob('.\\\\data\\\\' + sensor ):\n",
    "        #print(f\"On {sensor}\")\n",
    "        for subject_id, subject_dir in enumerate(glob.iglob(f\"{sensor_dir}\\\\*\")):\n",
    "            for action_id, file in enumerate(os.listdir(subject_dir)):\n",
    "                full_path = f\"{subject_dir}\\\\{file}\"\n",
    "                df_tmp = pd.read_csv(full_path, names=headers[sensor])\n",
    "                i+=1\n",
    "                pbar.update(1)\n",
    "                subject, action = get_subject_action(sensor, full_path)\n",
    "                # add one to make it match the given format\n",
    "                df_tmp['subject'] = subject\n",
    "                df_tmp['action'] = action\n",
    "                if total_data[sensor] is None:\n",
    "                    total_data[sensor] = df_tmp\n",
    "                else:\n",
    "                    total_data[sensor] = pd.concat([total_data[sensor], df_tmp])"
   ]
  },
  {
   "cell_type": "markdown",
   "id": "c0b86d5c",
   "metadata": {},
   "source": [
    "# Try it on subject one action 1"
   ]
  },
  {
   "cell_type": "code",
   "execution_count": null,
   "id": "ecc54514",
   "metadata": {},
   "outputs": [],
   "source": [
    "X = "
   ]
  }
 ],
 "metadata": {
  "kernelspec": {
   "display_name": "Python [conda env:mlenv2022] *",
   "language": "python",
   "name": "conda-env-mlenv2022-py"
  },
  "language_info": {
   "codemirror_mode": {
    "name": "ipython",
    "version": 3
   },
   "file_extension": ".py",
   "mimetype": "text/x-python",
   "name": "python",
   "nbconvert_exporter": "python",
   "pygments_lexer": "ipython3",
   "version": "3.7.9"
  }
 },
 "nbformat": 4,
 "nbformat_minor": 5
}
