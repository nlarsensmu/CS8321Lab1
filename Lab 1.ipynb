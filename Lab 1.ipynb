{
 "cells": [
  {
   "cell_type": "markdown",
   "id": "723a5bd0",
   "metadata": {},
   "source": [
    "## Load Data"
   ]
  },
  {
   "cell_type": "code",
   "execution_count": 2,
   "id": "4b7bd5f2",
   "metadata": {},
   "outputs": [
    {
     "data": {
      "text/plain": [
       "set()"
      ]
     },
     "execution_count": 2,
     "metadata": {},
     "output_type": "execute_result"
    }
   ],
   "source": [
    "import os\n",
    "\n",
    "data_dirs = set()\n",
    "for (dirpath, dirnames, filenames) in os.walk('.\\\\data\\\\act\\\\*'):\n",
    "    data_dirs.add(dirpath)\n",
    "    \n",
    "data_dirs"
   ]
  },
  {
   "cell_type": "code",
   "execution_count": 61,
   "id": "201498a9",
   "metadata": {
    "scrolled": false
   },
   "outputs": [
    {
     "name": "stdout",
     "output_type": "stream",
     "text": [
      "Wall time: 10min 50s\n"
     ]
    }
   ],
   "source": [
    "%%time\n",
    "import glob\n",
    "import pandas as pd\n",
    "\n",
    "total_data = {\n",
    "    'act': None,\n",
    "    'acw': None,\n",
    "    'dc_0.05_0.05': None,\n",
    "    'pm_1.0_1.0': None,\n",
    "}\n",
    "\n",
    "headers = {\n",
    "    'act': ['times', 'X', 'Y', 'Z'],\n",
    "    'acw': ['times', 'X', 'Y', 'Z'],\n",
    "    'dc_0.05_0.05': ['times', 'X', 'Y', 'Z'],\n",
    "    'pm_1.0_1.0': ['times', 'X', 'Y', 'Z']\n",
    "}\n",
    "actions = ['1', '2', '3', '4-1', '4-2', '5', '6', '7']\n",
    "\n",
    "sensor_list = ['act', 'acw', 'dc_0.05_0.05', 'pm_1.0_1.0']\n",
    "for sensor in sensor_list:\n",
    "    for sensor_dir in glob.iglob('.\\\\data\\\\' + sensor ):\n",
    "        for subject_id, subject_dir in enumerate(glob.iglob(f\"{sensor_dir}\\\\*\")):\n",
    "            for action_id, file in enumerate(os.listdir(subject_dir)):\n",
    "                full_path = f\"{subject_dir}\\\\{file}\"\n",
    "                #print(f\"reading{full_path}\")\n",
    "                df_tmp = pd.read_csv(full_path, names=headers['act'])\n",
    "                # add one to make it match the given format\n",
    "                df_tmp['subject'] = subject_id + 1\n",
    "                df_tmp['action'] = actions[action_id]\n",
    "                if total_data[sensor] is None:\n",
    "                    total_data[sensor] = df_tmp\n",
    "                else:\n",
    "                    total_data[sensor] = pd.concat([total_data[sensor], df_tmp])"
   ]
  },
  {
   "cell_type": "code",
   "execution_count": 62,
   "id": "f35e5a7d",
   "metadata": {},
   "outputs": [
    {
     "name": "stdout",
     "output_type": "stream",
     "text": [
      "act\n",
      "['1' '2' '3' '4-1' '4-2' '5' '6' '7']\n",
      "[ 1  2  3  4  5  6  7  8  9 10 11 12 13 14 15 16 17 18 19 20 21 22 23 24\n",
      " 25 26 27 28 29 30]\n",
      "False\n",
      "False\n",
      "False\n",
      "False\n",
      "-------------------------------------------------------------------------\n",
      "acw\n",
      "['1' '2' '3' '4-1' '4-2' '5' '6' '7']\n",
      "[ 1  2  3  4  5  6  7  8  9 10 11 12 13 14 15 16 17 18 19 20 21 22 23 24\n",
      " 25 26 27 28 29 30]\n",
      "False\n",
      "False\n",
      "False\n",
      "False\n",
      "-------------------------------------------------------------------------\n",
      "dc_0.05_0.05\n",
      "['1' '2' '3' '4-1' '4-2' '5' '6' '7']\n",
      "[ 1  2  3  4  5  6  7  8  9 10 11 12 13 14 15 16 17 18 19 20 21 22 23 24\n",
      " 25 26 27 28 29 30]\n",
      "False\n",
      "False\n",
      "False\n",
      "False\n",
      "-------------------------------------------------------------------------\n",
      "pm_1.0_1.0\n",
      "['1' '2' '3' '4-1' '4-2' '5' '6' '7']\n",
      "[ 1  2  3  4  5  6  7  8  9 10 11 12 13 14 15 16 17 18 19 20 21 22 23 24\n",
      " 25 26 27 28 29 30]\n",
      "False\n",
      "False\n",
      "False\n",
      "False\n",
      "-------------------------------------------------------------------------\n"
     ]
    }
   ],
   "source": [
    "for key in total_data.keys():\n",
    "    if total_data[key] is not None:\n",
    "        print(key)\n",
    "        print(total_data[key]['action'].unique())\n",
    "        print(total_data[key]['subject'].unique())\n",
    "        for header in headers[key]:\n",
    "            print(total_data[key][header].isnull().values.any())\n",
    "        print('-------------------------------------------------------------------------')"
   ]
  },
  {
   "cell_type": "code",
   "execution_count": 63,
   "id": "4b2319a4",
   "metadata": {},
   "outputs": [
    {
     "name": "stdout",
     "output_type": "stream",
     "text": [
      "['1' '2' '3' '4-1' '4-2' '5' '6' '7']\n"
     ]
    }
   ],
   "source": [
    "print(total_data['act']['action'].unique())"
   ]
  },
  {
   "cell_type": "code",
   "execution_count": 40,
   "id": "b4dfed1f",
   "metadata": {},
   "outputs": [
    {
     "data": {
      "text/html": [
       "<div>\n",
       "<style scoped>\n",
       "    .dataframe tbody tr th:only-of-type {\n",
       "        vertical-align: middle;\n",
       "    }\n",
       "\n",
       "    .dataframe tbody tr th {\n",
       "        vertical-align: top;\n",
       "    }\n",
       "\n",
       "    .dataframe thead th {\n",
       "        text-align: right;\n",
       "    }\n",
       "</style>\n",
       "<table border=\"1\" class=\"dataframe\">\n",
       "  <thead>\n",
       "    <tr style=\"text-align: right;\">\n",
       "      <th></th>\n",
       "      <th>times</th>\n",
       "      <th>X</th>\n",
       "      <th>Y</th>\n",
       "      <th>Z</th>\n",
       "      <th>subject</th>\n",
       "      <th>action</th>\n",
       "    </tr>\n",
       "  </thead>\n",
       "  <tbody>\n",
       "    <tr>\n",
       "      <th>0</th>\n",
       "      <td>2018-11-08 11:34:51.474000</td>\n",
       "      <td>-0.546875</td>\n",
       "      <td>-0.828125</td>\n",
       "      <td>-0.109375</td>\n",
       "      <td>1</td>\n",
       "      <td>1</td>\n",
       "    </tr>\n",
       "    <tr>\n",
       "      <th>1</th>\n",
       "      <td>2018-11-08 11:34:51.484000</td>\n",
       "      <td>-0.531250</td>\n",
       "      <td>-0.828125</td>\n",
       "      <td>-0.109375</td>\n",
       "      <td>1</td>\n",
       "      <td>1</td>\n",
       "    </tr>\n",
       "    <tr>\n",
       "      <th>2</th>\n",
       "      <td>2018-11-08 11:34:51.494000</td>\n",
       "      <td>-0.531250</td>\n",
       "      <td>-0.828125</td>\n",
       "      <td>-0.109375</td>\n",
       "      <td>1</td>\n",
       "      <td>1</td>\n",
       "    </tr>\n",
       "    <tr>\n",
       "      <th>3</th>\n",
       "      <td>2018-11-08 11:34:51.504000</td>\n",
       "      <td>-0.531250</td>\n",
       "      <td>-0.843750</td>\n",
       "      <td>-0.109375</td>\n",
       "      <td>1</td>\n",
       "      <td>1</td>\n",
       "    </tr>\n",
       "    <tr>\n",
       "      <th>4</th>\n",
       "      <td>2018-11-08 11:34:51.513000</td>\n",
       "      <td>-0.515625</td>\n",
       "      <td>-0.843750</td>\n",
       "      <td>-0.109375</td>\n",
       "      <td>1</td>\n",
       "      <td>1</td>\n",
       "    </tr>\n",
       "  </tbody>\n",
       "</table>\n",
       "</div>"
      ],
      "text/plain": [
       "                        times         X         Y         Z  subject action\n",
       "0  2018-11-08 11:34:51.474000 -0.546875 -0.828125 -0.109375        1      1\n",
       "1  2018-11-08 11:34:51.484000 -0.531250 -0.828125 -0.109375        1      1\n",
       "2  2018-11-08 11:34:51.494000 -0.531250 -0.828125 -0.109375        1      1\n",
       "3  2018-11-08 11:34:51.504000 -0.531250 -0.843750 -0.109375        1      1\n",
       "4  2018-11-08 11:34:51.513000 -0.515625 -0.843750 -0.109375        1      1"
      ]
     },
     "execution_count": 40,
     "metadata": {},
     "output_type": "execute_result"
    }
   ],
   "source": [
    "total_data['act'].head()"
   ]
  },
  {
   "cell_type": "code",
   "execution_count": 78,
   "id": "dec90fe8",
   "metadata": {},
   "outputs": [
    {
     "name": "stdout",
     "output_type": "stream",
     "text": [
      "act\n",
      "   2018-11-08 11:34:51.474000  -0.546875  -0.828125  -0.109375  subject  \\\n",
      "0  2018-11-08 11:34:51.484000  -0.531250  -0.828125  -0.109375        0   \n",
      "1  2018-11-08 11:34:51.494000  -0.531250  -0.828125  -0.109375        0   \n",
      "2  2018-11-08 11:34:51.504000  -0.531250  -0.843750  -0.109375        0   \n",
      "3  2018-11-08 11:34:51.513000  -0.515625  -0.843750  -0.109375        0   \n",
      "4  2018-11-08 11:34:51.523000  -0.515625  -0.828125  -0.125000        0   \n",
      "\n",
      "   action 2018-11-08 11:41:07.456000  -0.53125  -0.796875  0.203125  ...  \\\n",
      "0       0                        NaN       NaN        NaN       NaN  ...   \n",
      "1       0                        NaN       NaN        NaN       NaN  ...   \n",
      "2       0                        NaN       NaN        NaN       NaN  ...   \n",
      "3       0                        NaN       NaN        NaN       NaN  ...   \n",
      "4       0                        NaN       NaN        NaN       NaN  ...   \n",
      "\n",
      "  2019-03-26 16:08:30.386000  2019-03-26 16:10:09.884000  \\\n",
      "0                        NaN                         NaN   \n",
      "1                        NaN                         NaN   \n",
      "2                        NaN                         NaN   \n",
      "3                        NaN                         NaN   \n",
      "4                        NaN                         NaN   \n",
      "\n",
      "   2019-03-26 16:31:30.138000  2019-03-26 16:33:39.439000  \\\n",
      "0                         NaN                         NaN   \n",
      "1                         NaN                         NaN   \n",
      "2                         NaN                         NaN   \n",
      "3                         NaN                         NaN   \n",
      "4                         NaN                         NaN   \n",
      "\n",
      "  2019-03-26 16:35:24.119000  2019-03-26 16:38:32.327000  \\\n",
      "0                        NaN                         NaN   \n",
      "1                        NaN                         NaN   \n",
      "2                        NaN                         NaN   \n",
      "3                        NaN                         NaN   \n",
      "4                        NaN                         NaN   \n",
      "\n",
      "   2019-03-26 16:39:09.081000  2019-03-26 16:40:35.624000  \\\n",
      "0                         NaN                         NaN   \n",
      "1                         NaN                         NaN   \n",
      "2                         NaN                         NaN   \n",
      "3                         NaN                         NaN   \n",
      "4                         NaN                         NaN   \n",
      "\n",
      "  2019-03-26 16:42:44.799000  2019-03-26 16:44:49.420000  \n",
      "0                        NaN                         NaN  \n",
      "1                        NaN                         NaN  \n",
      "2                        NaN                         NaN  \n",
      "3                        NaN                         NaN  \n",
      "4                        NaN                         NaN  \n",
      "\n",
      "[5 rows x 373 columns]\n",
      "acw\n",
      "   2018-11-08 11:34:51.474000     0.125  -0.046875  0.90625  subject  action  \\\n",
      "0  2018-11-08 11:34:51.485000  0.109375    -0.0625  0.90625        0       0   \n",
      "1  2018-11-08 11:34:51.495000  0.109375    -0.0625  0.90625        0       0   \n",
      "2  2018-11-08 11:34:51.505000  0.125000    -0.0625  0.90625        0       0   \n",
      "3  2018-11-08 11:34:51.516000  0.125000    -0.0625  0.90625        0       0   \n",
      "4  2018-11-08 11:34:51.526000  0.125000    -0.0625  0.90625        0       0   \n",
      "\n",
      "  2018-11-08 11:41:07.456000  -0.484375  -0.53125  -0.75  ...  \\\n",
      "0                        NaN        NaN       NaN    NaN  ...   \n",
      "1                        NaN        NaN       NaN    NaN  ...   \n",
      "2                        NaN        NaN       NaN    NaN  ...   \n",
      "3                        NaN        NaN       NaN    NaN  ...   \n",
      "4                        NaN        NaN       NaN    NaN  ...   \n",
      "\n",
      "  2019-03-26 16:08:30.383000  2019-03-26 16:10:09.884000  \\\n",
      "0                        NaN                         NaN   \n",
      "1                        NaN                         NaN   \n",
      "2                        NaN                         NaN   \n",
      "3                        NaN                         NaN   \n",
      "4                        NaN                         NaN   \n",
      "\n",
      "   2019-03-26 16:31:30.135000  2019-03-26 16:33:39.443000  \\\n",
      "0                         NaN                         NaN   \n",
      "1                         NaN                         NaN   \n",
      "2                         NaN                         NaN   \n",
      "3                         NaN                         NaN   \n",
      "4                         NaN                         NaN   \n",
      "\n",
      "  2019-03-26 16:35:24.116000  2019-03-26 16:38:32.335000  \\\n",
      "0                        NaN                         NaN   \n",
      "1                        NaN                         NaN   \n",
      "2                        NaN                         NaN   \n",
      "3                        NaN                         NaN   \n",
      "4                        NaN                         NaN   \n",
      "\n",
      "   2019-03-26 16:39:09.077000  2019-03-26 16:40:35.617000  \\\n",
      "0                         NaN                         NaN   \n",
      "1                         NaN                         NaN   \n",
      "2                         NaN                         NaN   \n",
      "3                         NaN                         NaN   \n",
      "4                         NaN                         NaN   \n",
      "\n",
      "  2019-03-26 16:42:44.800000  2019-03-26 16:44:49.415000  \n",
      "0                        NaN                         NaN  \n",
      "1                        NaN                         NaN  \n",
      "2                        NaN                         NaN  \n",
      "3                        NaN                         NaN  \n",
      "4                        NaN                         NaN  \n",
      "\n",
      "[5 rows x 379 columns]\n"
     ]
    }
   ],
   "source": [
    "for key in total_data.keys():\n",
    "    print(key)\n",
    "    print(total_data[key].head())"
   ]
  },
  {
   "cell_type": "code",
   "execution_count": null,
   "id": "82f5fc78",
   "metadata": {},
   "outputs": [],
   "source": []
  }
 ],
 "metadata": {
  "kernelspec": {
   "display_name": "Python [conda env:mlenv2022] *",
   "language": "python",
   "name": "conda-env-mlenv2022-py"
  },
  "language_info": {
   "codemirror_mode": {
    "name": "ipython",
    "version": 3
   },
   "file_extension": ".py",
   "mimetype": "text/x-python",
   "name": "python",
   "nbconvert_exporter": "python",
   "pygments_lexer": "ipython3",
   "version": "3.7.9"
  }
 },
 "nbformat": 4,
 "nbformat_minor": 5
}
